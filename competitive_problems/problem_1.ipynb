{
 "cells": [
  {
   "cell_type": "markdown",
   "metadata": {},
   "source": [
    "# Problem statement:\n",
    "Given the names and grades for each student in a Physics class of students, store them in a nested list\n",
    "and print the name(s) of any student(s) having the second lowest grade.\n",
    "\n",
    "ouput  Format:\n",
    "Print the name(s) of any student(s) having the second lowest grade in Physics; if there are multiple\n",
    "students, order their names alphabetically and print each one on a new line.\n",
    "\n",
    "\n",
    "\n"
   ]
  },
  {
   "cell_type": "code",
   "execution_count": 17,
   "metadata": {},
   "outputs": [
    {
     "name": "stdout",
     "output_type": "stream",
     "text": [
      "ajay\n",
      "44\n",
      "Tulasi\n",
      "46\n",
      "girlfriend\n",
      "24\n",
      "girlfriend_2\n",
      "20\n"
     ]
    }
   ],
   "source": [
    "students= [[\"ajay\",44],['Tulasi',46],['girlfriend',24],['girlfriend_2',20]]\n",
    "\n",
    "#i = 0\n",
    "#marks = int(input())\n",
    "#for marks in range(students):\n",
    "  #    if( marks == student[i]):\n",
    "    #      print(students[i])\n",
    "for inner in students:\n",
    "    for value in inner:\n",
    "        print(value)\n",
    "            "
   ]
  },
  {
   "cell_type": "code",
   "execution_count": null,
   "metadata": {},
   "outputs": [],
   "source": [
    " nested_list = [['blue', 'green'], ['red', 'black'], ['blue', 'white']]\n",
    ">>> for inner in nested_list:\n",
    "...     for value in inner:\n",
    "...         print value"
   ]
  },
  {
   "cell_type": "code",
   "execution_count": null,
   "metadata": {},
   "outputs": [],
   "source": []
  },
  {
   "cell_type": "code",
   "execution_count": 12,
   "metadata": {},
   "outputs": [
    {
     "data": {
      "text/plain": [
       "array(['Tulasi', '46'], dtype='<U12')"
      ]
     },
     "execution_count": 12,
     "metadata": {},
     "output_type": "execute_result"
    }
   ],
   "source": [
    "students[1]"
   ]
  },
  {
   "cell_type": "code",
   "execution_count": 13,
   "metadata": {},
   "outputs": [
    {
     "data": {
      "text/plain": [
       "array([['ajay', '44'],\n",
       "       ['Tulasi', '46'],\n",
       "       ['girlfriend', '24'],\n",
       "       ['girlfriend_2', '20']], dtype='<U12')"
      ]
     },
     "execution_count": 13,
     "metadata": {},
     "output_type": "execute_result"
    }
   ],
   "source": [
    "students"
   ]
  },
  {
   "cell_type": "code",
   "execution_count": 31,
   "metadata": {},
   "outputs": [
    {
     "name": "stdout",
     "output_type": "stream",
     "text": [
      "5\n",
      "\"Harry\"\n",
      "37.21\n",
      "\"Berry\"\n",
      "37.21\n",
      "\"Tina\"\n",
      "37.2\n",
      "\"Akriti\"\n",
      "41\n",
      "\"Harsh\"\n",
      "39\n"
     ]
    }
   ],
   "source": [
    "#solution start from here\n",
    "marks_sheet = []\n",
    "marks = []\n",
    "a = int(input())\n",
    "for i in range(a):\n",
    "    name = input()\n",
    "    grade = float(input())\n",
    "    marks_sheet += [[name,grade]]\n",
    "    marks += [grade]\n",
    "ar = (sorted(set(marks)))[1]#sorting the mark using sorted function\n"
   ]
  },
  {
   "cell_type": "code",
   "execution_count": 32,
   "metadata": {},
   "outputs": [
    {
     "name": "stdout",
     "output_type": "stream",
     "text": [
      "\"Berry\"\n",
      "\"Harry\"\n"
     ]
    }
   ],
   "source": [
    "for i,j in sorted(marks_sheet):\n",
    "       if j == ar :\n",
    "            print(i)\n",
    "    \n",
    "\n",
    "\n",
    "\n",
    "\n",
    "\n",
    "\n",
    "\n",
    "\n",
    "\n",
    "\n",
    "\n",
    "\n",
    "\n"
   ]
  },
  {
   "cell_type": "code",
   "execution_count": null,
   "metadata": {},
   "outputs": [],
   "source": []
  },
  {
   "cell_type": "code",
   "execution_count": null,
   "metadata": {},
   "outputs": [],
   "source": []
  }
 ],
 "metadata": {
  "kernelspec": {
   "display_name": "Python 3",
   "language": "python",
   "name": "python3"
  },
  "language_info": {
   "codemirror_mode": {
    "name": "ipython",
    "version": 3
   },
   "file_extension": ".py",
   "mimetype": "text/x-python",
   "name": "python",
   "nbconvert_exporter": "python",
   "pygments_lexer": "ipython3",
   "version": "3.7.7"
  }
 },
 "nbformat": 4,
 "nbformat_minor": 4
}
